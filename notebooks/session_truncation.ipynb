{
 "cells": [
  {
   "cell_type": "code",
   "id": "initial_id",
   "metadata": {
    "collapsed": true
   },
   "source": [
    "import math\n",
    "\n",
    "import pandas as pd\n",
    "\n",
    "data = pd.read_parquet(\"../data/cache/raw_data_db_cache.parquet\")\n",
    "data.shape"
   ],
   "execution_count": null,
   "outputs": []
  },
  {
   "metadata": {},
   "cell_type": "code",
   "source": [
    "from omegaconf import OmegaConf\n",
    "from src.data_pipeline import prepare_time_series_segments\n",
    "\n",
    "crop_start_s = 5\n",
    "crop_end_s = 5\n",
    "resample_rate_hz = 50\n",
    "segment_size_s = 5\n",
    "overlap_s = 0\n",
    "\n",
    "cfg = {\n",
    "    \"preprocessing\": {\n",
    "        \"crop\": {\n",
    "            \"start_seconds\": crop_start_s,\n",
    "            \"end_seconds\": crop_end_s,\n",
    "        },\n",
    "        \"resample_rate_hz\": resample_rate_hz,\n",
    "        \"segment_size_seconds\": segment_size_s,\n",
    "        \"overlap_seconds\": overlap_s,\n",
    "    }\n",
    "}\n",
    "\n",
    "cfg = OmegaConf.create(cfg)\n",
    "\n",
    "segments_df = prepare_time_series_segments(data,\n",
    "                                           cfg)\n",
    "\n",
    "segments_df.shape"
   ],
   "id": "6fb59ea59194a809",
   "execution_count": null,
   "outputs": []
  },
  {
   "metadata": {},
   "cell_type": "code",
   "source": [
    "def get_session_lengths(df):\n",
    "    return (df.groupby(\"session_id\")\n",
    "            .agg({\"session_id\": \"count\"})\n",
    "            .rename(columns={\"session_id\": \"count\"}) / resample_rate_hz)\n",
    "\n",
    "\n",
    "get_session_lengths(segments_df).plot.hist()\n",
    "get_session_lengths(segments_df).describe()\n",
    "# get_session_lengths(segments_df).to_dict()[\"count\"]"
   ],
   "id": "74f0a7c562bbf30f",
   "execution_count": null,
   "outputs": []
  },
  {
   "metadata": {},
   "cell_type": "code",
   "source": [
    "file_length_limit_s = 5 * 60  # 5 minutes\n",
    "max_count_segments = math.floor(file_length_limit_s / segment_size_s)\n",
    "max_count_segments"
   ],
   "id": "60b52e08338139ad",
   "execution_count": null,
   "outputs": []
  },
  {
   "metadata": {},
   "cell_type": "code",
   "source": [
    "segments_truncated_df = segments_df.groupby('session_id').apply(\n",
    "    lambda x: x[x['segment_id'].isin(\n",
    "        x['segment_id'].drop_duplicates().sample(n=min(len(x['segment_id'].drop_duplicates()), max_count_segments))\n",
    "    )]\n",
    ").reset_index(drop=True)\n",
    "\n",
    "(segments_truncated_df.groupby(\"session_id\")\n",
    " .agg({\"session_id\": \"count\"})\n",
    " .rename(columns={\"session_id\": \"count\"})).describe()"
   ],
   "id": "bf039c238d2012d5",
   "execution_count": null,
   "outputs": []
  },
  {
   "metadata": {},
   "cell_type": "code",
   "source": [
    "get_session_lengths(segments_df).plot.hist()\n",
    "get_session_lengths(segments_df).describe()"
   ],
   "id": "b31616adaf3efaa1",
   "execution_count": null,
   "outputs": []
  },
  {
   "metadata": {},
   "cell_type": "code",
   "source": [
    "get_session_lengths(segments_truncated_df).plot.hist()\n",
    "get_session_lengths(segments_truncated_df).describe() "
   ],
   "id": "4561f81941f702fc",
   "execution_count": null,
   "outputs": []
  }
 ],
 "metadata": {
  "kernelspec": {
   "display_name": "Python 3",
   "language": "python",
   "name": "python3"
  },
  "language_info": {
   "codemirror_mode": {
    "name": "ipython",
    "version": 2
   },
   "file_extension": ".py",
   "mimetype": "text/x-python",
   "name": "python",
   "nbconvert_exporter": "python",
   "pygments_lexer": "ipython2",
   "version": "2.7.6"
  }
 },
 "nbformat": 4,
 "nbformat_minor": 5
}
