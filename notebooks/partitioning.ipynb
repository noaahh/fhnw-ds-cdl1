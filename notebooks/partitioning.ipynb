{
 "cells": [
  {
   "cell_type": "code",
   "id": "initial_id",
   "metadata": {
    "collapsed": true
   },
   "source": [
    "import matplotlib.pyplot as plt\n",
    "from dotenv import load_dotenv\n",
    "\n",
    "load_dotenv()"
   ],
   "execution_count": null,
   "outputs": []
  },
  {
   "metadata": {},
   "cell_type": "markdown",
   "source": "# Load data from Parquet",
   "id": "e8f58b696d295f"
  },
  {
   "metadata": {},
   "cell_type": "code",
   "source": [
    "from src.utils import get_partition_paths, get_partitioned_data\n",
    "\n",
    "partitions_paths = get_partition_paths(\"../data/partitions\", k_folds=5)\n",
    "data = get_partitioned_data(partitions_paths)\n",
    "train_data, val_data = data[0].values()\n",
    "\n",
    "print(f\"Train data shape: {train_data.shape}, Train segments: {train_data['segment_id'].nunique()}\")\n",
    "print(f\"Validation data shape: {val_data.shape}, Validation segments: {val_data['segment_id'].nunique()}\")"
   ],
   "id": "a54fe10a60f468c5",
   "execution_count": null,
   "outputs": []
  },
  {
   "metadata": {},
   "cell_type": "code",
   "source": [
    "for i, fold in enumerate(data):\n",
    "    fold_train, fold_val = fold.values()\n",
    "train_session_ids = fold_train['session_id'].unique()\n",
    "val_session_ids = fold_val['session_id'].unique()\n",
    "assert len(set(train_session_ids).intersection(val_session_ids)) == 0, f\"Fold {i + 1} has overlapping session IDs\""
   ],
   "id": "63e39893654fef17",
   "execution_count": null,
   "outputs": []
  },
  {
   "metadata": {},
   "cell_type": "markdown",
   "source": "# Data distribution by class for each partition",
   "id": "d5519a6fff86dea1"
  },
  {
   "metadata": {},
   "cell_type": "code",
   "source": [
    "import seaborn as sns\n",
    "\n",
    "\n",
    "def plot_fold_label_distribution(y_train, y_test, title):\n",
    "    fig, ax = plt.subplots(1, 2, figsize=(12, 6))\n",
    "    sns.countplot(y_train['label'], ax=ax[0])\n",
    "    ax[0].set_title('Train')\n",
    "    sns.countplot(y_test['label'], ax=ax[1])\n",
    "    ax[1].set_title('Test')\n",
    "    fig.suptitle(title)\n",
    "    plt.show()\n",
    "\n",
    "\n",
    "for i, fold in enumerate(data):\n",
    "    train_data, val_data = fold.values()\n",
    "    plot_fold_label_distribution(train_data, val_data, f'Fold {i + 1}')"
   ],
   "id": "f9dea8e5c4db84e7",
   "execution_count": null,
   "outputs": []
  },
  {
   "metadata": {},
   "cell_type": "markdown",
   "source": "# Looking at a random segment",
   "id": "ac5ff563c71b101b"
  },
  {
   "metadata": {},
   "cell_type": "code",
   "source": [
    "import numpy as np\n",
    "\n",
    "np.random.seed(1337)\n",
    "\n",
    "fold = np.random.choice(data)\n",
    "train_data, val_data = fold.values()\n",
    "segment_id = train_data['segment_id'].sample(1).values[0]\n",
    "\n",
    "segment = train_data[train_data['segment_id'] == segment_id]\n",
    "segment = segment.sort_values(by='_time')"
   ],
   "id": "d9be95f677ff8ece",
   "execution_count": null,
   "outputs": []
  },
  {
   "metadata": {},
   "cell_type": "code",
   "source": [
    "print(segment_id)\n",
    "print(segment['_time'].min())\n",
    "print(segment['_time'].max())\n",
    "print(f\"Segment duration: {segment['_time'].max().timestamp() - segment['_time'].min().timestamp()} seconds\")\n",
    "print(segment.shape)"
   ],
   "id": "7ecbc77bcd2d3238",
   "execution_count": null,
   "outputs": []
  },
  {
   "metadata": {},
   "cell_type": "code",
   "source": [
    "plt.figure(figsize=(12, 6))\n",
    "plt.plot(segment['_time'], segment['accelerometer_x'])\n",
    "plt.title('Accelerometer X')\n",
    "plt.show()"
   ],
   "id": "f69f8bfdb80e17b6",
   "execution_count": null,
   "outputs": []
  },
  {
   "metadata": {},
   "cell_type": "code",
   "source": [
    "plt.figure(figsize=(12, 6))\n",
    "plt.plot(segment['_time'], segment['accelerometer_x_moving_avg'])\n",
    "plt.title('Accelerometer X Moving Average')\n",
    "plt.show()"
   ],
   "id": "f3f0de839b20aec3",
   "execution_count": null,
   "outputs": []
  }
 ],
 "metadata": {
  "kernelspec": {
   "display_name": "Python 3",
   "language": "python",
   "name": "python3"
  },
  "language_info": {
   "codemirror_mode": {
    "name": "ipython",
    "version": 2
   },
   "file_extension": ".py",
   "mimetype": "text/x-python",
   "name": "python",
   "nbconvert_exporter": "python",
   "pygments_lexer": "ipython2",
   "version": "2.7.6"
  }
 },
 "nbformat": 4,
 "nbformat_minor": 5
}
