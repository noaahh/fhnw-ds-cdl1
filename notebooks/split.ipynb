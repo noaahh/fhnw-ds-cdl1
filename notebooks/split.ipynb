{
 "cells": [
  {
   "cell_type": "code",
   "id": "initial_id",
   "metadata": {
    "collapsed": true
   },
   "source": [
    "import matplotlib.pyplot as plt\n",
    "import pandas as pd\n",
    "from dotenv import load_dotenv\n",
    "\n",
    "load_dotenv()"
   ],
   "outputs": [],
   "execution_count": null
  },
  {
   "metadata": {},
   "cell_type": "markdown",
   "source": "# Load data from Parquet",
   "id": "e8f58b696d295f"
  },
  {
   "metadata": {},
   "cell_type": "code",
   "source": [
    "X_train = pd.read_parquet('../data/splits/X_train.parquet')\n",
    "X_test = pd.read_parquet('../data/splits/X_val.parquet')\n",
    "y_train = pd.read_parquet('../data/splits/y_train.parquet')\n",
    "y_test = pd.read_parquet('../data/splits/y_val.parquet')\n",
    "\n",
    "X_train.shape, X_test.shape, y_train.shape, y_test.shape"
   ],
   "id": "13c6153b05c363df",
   "outputs": [],
   "execution_count": null
  },
  {
   "metadata": {},
   "cell_type": "code",
   "source": [
    "def plot_label_distribution(y_train, y_test):\n",
    "    \"\"\"Plot the distribution of labels in the training and testing datasets.\"\"\"\n",
    "    fig, axs = plt.subplots(1, 2, figsize=(12, 6), sharey=True)\n",
    "\n",
    "    y_train.value_counts().sort_index().plot(kind='bar', ax=axs[0], color='blue')\n",
    "    axs[0].set_title('Training Set Label Distribution')\n",
    "    axs[0].set_xlabel('Labels')\n",
    "    axs[0].set_ylabel('Frequency')\n",
    "\n",
    "    y_test.value_counts().sort_index().plot(kind='bar', ax=axs[1], color='green')\n",
    "    axs[1].set_title('Testing Set Label Distribution')\n",
    "    axs[1].set_xlabel('Labels')\n",
    "\n",
    "    axs[0].legend(['Train Labels'])\n",
    "    axs[1].legend(['Test Labels'])\n",
    "    axs[0].grid(axis='y')\n",
    "    axs[1].grid(axis='y')\n",
    "\n",
    "    plt.tight_layout()\n",
    "    plt.show()\n",
    "\n",
    "\n",
    "plot_label_distribution(y_train, y_test)"
   ],
   "id": "ae8e067a727899aa",
   "outputs": [],
   "execution_count": null
  },
  {
   "metadata": {},
   "cell_type": "code",
   "source": [
    "import os\n",
    "\n",
    "\n",
    "def plot_fold_distribution(data_path):\n",
    "    \"\"\"\n",
    "    Plot the distribution of labels across folds stored in parquet files within a given directory.\n",
    "\n",
    "    Args:\n",
    "    data_path (str): Path to the directory containing the fold label parquet files.\n",
    "    \"\"\"\n",
    "    # Find all parquet files in the specified directory that are designated as label files\n",
    "    label_files = [f for f in os.listdir(data_path) if f.endswith('_labels.parquet') and 'fold' in f]\n",
    "\n",
    "    # Initialize a dictionary to hold label counts for each fold\n",
    "    label_counts = {}\n",
    "\n",
    "    # Load each label file and count the occurrences of each label\n",
    "    for file in label_files:\n",
    "        fold_name = file.split('_')[1]  # Assumes the file naming convention 'fold_{i}_train_labels.parquet'\n",
    "        label_data = pd.read_parquet(os.path.join(data_path, file))\n",
    "        label_counts[fold_name] = label_data['label'].value_counts()\n",
    "\n",
    "    # Plotting\n",
    "    fig, ax = plt.subplots(figsize=(10, 6))\n",
    "    for fold, counts in label_counts.items():\n",
    "        ax.bar(counts.index + f\"_{fold}\", counts.values, label=f\"Fold {fold}\")\n",
    "\n",
    "    ax.set_xlabel('Labels')\n",
    "    ax.set_ylabel('Frequency')\n",
    "    ax.set_title('Label Distribution Across Folds')\n",
    "    plt.xticks(rotation=45)\n",
    "    plt.legend(title='Fold')\n",
    "    plt.tight_layout()\n",
    "    plt.show()\n",
    "\n",
    "\n",
    "plot_fold_distribution(\"../data/splits\")"
   ],
   "id": "f7324d193359223a",
   "outputs": [],
   "execution_count": null
  },
  {
   "metadata": {},
   "cell_type": "markdown",
   "source": "# Looking at a random segment",
   "id": "ac5ff563c71b101b"
  },
  {
   "metadata": {},
   "cell_type": "code",
   "source": [
    "import numpy as np\n",
    "\n",
    "np.random.seed(1337)\n",
    "\n",
    "random_sample = X_train.sample(1)\n",
    "id = random_sample['id'].values[0]\n",
    "\n",
    "segment = X_train[(X_train['id'] == id)]\n",
    "print(f'Segment ID: {id}, Length: {len(segment)}')\n",
    "\n",
    "segment = segment.sort_values(by='_time')\n",
    "\n",
    "plt.figure(figsize=(12, 6))\n",
    "plt.plot(segment['_time'], segment['accelerometer_x'])\n",
    "plt.title('Accelerometer X')\n",
    "plt.show()"
   ],
   "id": "7ecbc77bcd2d3238",
   "outputs": [],
   "execution_count": null
  }
 ],
 "metadata": {
  "kernelspec": {
   "display_name": "Python 3",
   "language": "python",
   "name": "python3"
  },
  "language_info": {
   "codemirror_mode": {
    "name": "ipython",
    "version": 2
   },
   "file_extension": ".py",
   "mimetype": "text/x-python",
   "name": "python",
   "nbconvert_exporter": "python",
   "pygments_lexer": "ipython2",
   "version": "2.7.6"
  }
 },
 "nbformat": 4,
 "nbformat_minor": 5
}
