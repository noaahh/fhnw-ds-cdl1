{
 "cells": [
  {
   "cell_type": "code",
   "id": "initial_id",
   "metadata": {
    "collapsed": true
   },
   "source": [
    "import matplotlib.pyplot as plt\n",
    "import pandas as pd\n",
    "import numpy as np\n",
    "\n",
    "data = pd.read_parquet(\"../data/cache/raw_data_db_cache.parquet\")\n",
    "data = data[data['file_hash'] == data['file_hash'].sample(1).values[0]]\n",
    "data = data[data.columns[data.columns.str.contains('accelerometer') | data.columns.str.contains('_time')]]\n",
    "\n",
    "data.drop(columns=['recording_time'], inplace=True)\n",
    "data.columns = data.columns.str.replace('_time', 'time')\n",
    "data = data.rename(columns={'accelerometer_x': 'x', 'accelerometer_y': 'y', 'accelerometer_z': 'z'})\n",
    "\n",
    "data = data.sort_values('time')\n",
    "data = data.reset_index(drop=True)\n",
    "\n",
    "data"
   ],
   "outputs": [],
   "execution_count": null
  },
  {
   "metadata": {},
   "cell_type": "code",
   "source": [
    "sensor_data = data.copy()\n",
    "\n",
    "def visualize_data(data, title, first_n_seconds=None):\n",
    "    if first_n_seconds is not None:\n",
    "        data = data[data.index <= data.index[0] + pd.Timedelta(seconds=first_n_seconds)]\n",
    "    \n",
    "    plt.figure(figsize=(10, 6))\n",
    "    plt.plot(data.index, data['x'], label='X-axis')\n",
    "    plt.plot(data.index, data['y'], label='Y-axis')\n",
    "    plt.plot(data.index, data['z'], label='Z-axis')\n",
    "    plt.legend()\n",
    "    plt.title(title)\n",
    "    plt.xlabel('Time')\n",
    "    plt.ylabel('Acceleration')\n",
    "    plt.show()"
   ],
   "id": "cc045370b39f6e2b",
   "outputs": [],
   "execution_count": null
  },
  {
   "metadata": {},
   "cell_type": "markdown",
   "source": "# Time Series Preprocessing",
   "id": "4a63acd028091e3"
  },
  {
   "cell_type": "code",
   "source": [
    "# Preprocess\n",
    "sensor_data['time'] = pd.to_datetime(sensor_data['time'], unit='ns')\n",
    "sensor_data = sensor_data.set_index('time', drop=True)\n",
    "\n",
    "visualize_data(sensor_data.copy(), 'Preprocessed Data', first_n_seconds=5)"
   ],
   "metadata": {
    "collapsed": false
   },
   "id": "5ddee27b7941bfa5",
   "outputs": [],
   "execution_count": null
  },
  {
   "metadata": {},
   "cell_type": "markdown",
   "source": "## Crop",
   "id": "41bc91974bece3ba"
  },
  {
   "cell_type": "code",
   "source": [
    "# Crop\n",
    "start_crop = pd.Timedelta(seconds=5)\n",
    "end_crop = pd.Timedelta(seconds=5)\n",
    "\n",
    "cropped_data = sensor_data[sensor_data.index.min() + start_crop:sensor_data.index.max() - end_crop]\n",
    "visualize_data(cropped_data.copy(), 'Cropped Data', first_n_seconds=5)"
   ],
   "metadata": {
    "collapsed": false
   },
   "id": "c76e8c320dc3a635",
   "outputs": [],
   "execution_count": null
  },
  {
   "metadata": {},
   "cell_type": "markdown",
   "source": "## Resample",
   "id": "55b63fee6aed897c"
  },
  {
   "cell_type": "code",
   "source": [
    "# Resample\n",
    "def visualize_resampling(original_data, resampled_data):\n",
    "    \"\"\"\n",
    "    Visualizes the effect of resampling on a dataset by plotting the original and resampled data.\n",
    "\n",
    "    Parameters:\n",
    "    - original_data: A DataFrame with the original data.\n",
    "    - resampled_data: A DataFrame with the resampled data.\n",
    "\n",
    "    Both DataFrames should have a DateTimeIndex.\n",
    "    \"\"\"\n",
    "    \n",
    "    plt.figure(figsize=(15, 7))\n",
    "    \n",
    "    # Plot original data\n",
    "    plt.plot(original_data.index, original_data['x'], label='Original Data (X-axis)', alpha=0.5, linestyle='-', marker='o', markersize=4)\n",
    "    plt.plot(original_data.index, original_data['y'], label='Original Data (Y-axis)', alpha=0.5, linestyle='-', marker='o', markersize=4)\n",
    "    plt.plot(original_data.index, original_data['z'], label='Original Data (Z-axis)', alpha=0.5, linestyle='-', marker='o', markersize=4)\n",
    "    \n",
    "    # Plot resampled data\n",
    "    plt.plot(resampled_data.index, resampled_data['x'], label='Resampled Data (X-axis)', linestyle='-', marker='x', markersize=7)\n",
    "    plt.plot(resampled_data.index, resampled_data['y'], label='Resampled Data (Y-axis)', linestyle='-', marker='x', markersize=7)\n",
    "    plt.plot(resampled_data.index, resampled_data['z'], label='Resampled Data (Z-axis)', linestyle='-', marker='x', markersize=7)\n",
    "    \n",
    "    plt.legend()\n",
    "    plt.title('Comparison of Original and Resampled Data')\n",
    "    plt.xlabel('Time')\n",
    "    plt.ylabel('Values')\n",
    "    plt.tight_layout()\n",
    "    plt.show()\n",
    "\n",
    "\n",
    "\n",
    "rate = f\"{int(1E6 / 50)}us\"\n",
    "resampled_data = cropped_data.resample(rate).mean()  # 100 Hz => 50 Hz == 20ms\n",
    "\n",
    "cropped_data_subset = cropped_data[cropped_data.index <= cropped_data.index[0] + pd.Timedelta(seconds=1)]\n",
    "resampled_data_subset = resampled_data[resampled_data.index <= resampled_data.index[0] + pd.Timedelta(seconds=1)]\n",
    "visualize_resampling(cropped_data_subset, resampled_data_subset)"
   ],
   "metadata": {
    "collapsed": false
   },
   "id": "968da8b044df2093",
   "outputs": [],
   "execution_count": null
  },
  {
   "cell_type": "code",
   "source": [
    "segment_size = pd.Timedelta(seconds=5)\n",
    "overlap = pd.Timedelta(seconds=2)\n",
    "\n",
    "start_time = resampled_data.index.min()\n",
    "segments = []\n",
    "\n",
    "while start_time + segment_size <= resampled_data.index.max():\n",
    "    end_time = start_time + segment_size\n",
    "    segments.append(resampled_data[start_time:end_time])\n",
    "    start_time = end_time - overlap\n",
    "    \n",
    "print(f'Number of segments: {len(segments)}')\n",
    "visualize_data(segments[0], 'First Segment')"
   ],
   "metadata": {
    "collapsed": false
   },
   "id": "1d056960bc6f928e",
   "outputs": [],
   "execution_count": null
  },
  {
   "cell_type": "code",
   "source": [
    "def visualize_segment_overlap(segments, column='x'):\n",
    "    \"\"\"\n",
    "    Visualizes the overlap between segments of data.\n",
    "\n",
    "    Parameters:\n",
    "    - segments: A list of DataFrame segments.\n",
    "    - column: The column name to visualize. Defaults to 'x'.\n",
    "    \"\"\"\n",
    "    \n",
    "    plt.figure(figsize=(15, 10))\n",
    "    \n",
    "    # Setting different colors for segments for clarity\n",
    "    colors = plt.cm.jet(np.linspace(0, 1, len(segments)))\n",
    "    \n",
    "    for i, segment in enumerate(segments):\n",
    "        plt.plot(segment.index, segment[column] + i * 0.5, # Offset each segment for visual clarity\n",
    "                 label=f'Segment {i+1}', color=colors[i])\n",
    "    \n",
    "    plt.title(f'Visualization of Segment Overlap for \"{column}\" column')\n",
    "    plt.xlabel('Time')\n",
    "    plt.ylabel('Value (with offset for visualization)')\n",
    "    plt.legend()\n",
    "    plt.tight_layout()\n",
    "    plt.show()\n",
    "    \n",
    "    \n",
    "visualize_segment_overlap(segments[:3])"
   ],
   "metadata": {
    "collapsed": false
   },
   "id": "e9a89b1c071acf68",
   "outputs": [],
   "execution_count": null
  },
  {
   "metadata": {},
   "cell_type": "markdown",
   "source": [
    "# Feature Extraction\n",
    "\n",
    "## Frequency Domain"
   ],
   "id": "36499ccbf2c1ea6b"
  },
  {
   "cell_type": "code",
   "source": [
    "def visualize_frequency_domain(data, sampling_rate, title='Frequency Domain'):\n",
    "    fft_result = np.fft.fft(data)\n",
    "    frequencies = np.fft.fftfreq(data.shape[0], 1/sampling_rate)\n",
    "    \n",
    "    plt.figure(figsize=(15, 5))\n",
    "    plt.plot(frequencies, np.abs(fft_result))\n",
    "    plt.title(title)\n",
    "    plt.xlabel('Frequency (Hz)')\n",
    "    plt.ylabel('Amplitude')\n",
    "    plt.xlim(0, np.max(frequencies)/2)  # Show only positive frequencies up to Nyquist frequency\n",
    "    plt.show()\n",
    "\n",
    "sampling_rate = 1E6 / 50  # 50 Hz\n",
    "visualize_frequency_domain(segments[0]['x'], sampling_rate, title='Frequency Domain for X-axis (First Segment)')"
   ],
   "metadata": {
    "collapsed": false
   },
   "id": "30b284cb53965506",
   "outputs": [],
   "execution_count": null
  },
  {
   "metadata": {},
   "cell_type": "markdown",
   "source": "## Correlation",
   "id": "f88ec877f380bed1"
  },
  {
   "metadata": {},
   "cell_type": "code",
   "source": [
    "import seaborn as sns\n",
    "\n",
    "def visualize_correlation_heatmap(data, title='Correlation Heatmap'):\n",
    "    correlation_matrix = data.corr()\n",
    "    plt.figure(figsize=(8, 6))\n",
    "    sns.heatmap(correlation_matrix, annot=True, cmap='coolwarm', fmt='.2f')\n",
    "    plt.title(title)\n",
    "    plt.show()\n",
    "    \n",
    "    \n",
    "visualize_correlation_heatmap(segments[5], title='Correlation Heatmap for First Segment')"
   ],
   "id": "3bf3c6229826e683",
   "outputs": [],
   "execution_count": null
  },
  {
   "metadata": {},
   "cell_type": "markdown",
   "source": [
    "# Smoothing\n",
    "\n",
    "## Butterworth Filter"
   ],
   "id": "b84d574c41bf5c74"
  },
  {
   "metadata": {},
   "cell_type": "code",
   "source": [
    "import scipy.signal as signal\n",
    "\n",
    "def _calc_butterworth_filter(order, cutoff, sampling_rate):\n",
    "    nyquist = 0.5 * sampling_rate\n",
    "    normal_cutoff = cutoff / nyquist\n",
    "    b, a = signal.butter(order, normal_cutoff, btype='low', analog=False)\n",
    "    return b, a\n",
    "\n",
    "\n",
    "def apply_butterworth_filter(data, order, cutoff, sampling_rate):\n",
    "    b, a = _calc_butterworth_filter(order, cutoff, sampling_rate)\n",
    "    return signal.filtfilt(b, a, data)\n",
    "\n",
    "\n",
    "def visualize_butterworth_filter(data, filtered_data, title='Butterworth Filter'):\n",
    "    plt.figure(figsize=(15, 5))\n",
    "    plt.plot(data.index, data, label='Original Data', alpha=0.5)\n",
    "    plt.plot(data.index, filtered_data, label='Filtered Data', linestyle='--')\n",
    "    plt.title(title)\n",
    "    plt.xlabel('Time')\n",
    "    plt.ylabel('Values')\n",
    "    plt.legend()\n",
    "    plt.show()\n",
    "    \n",
    "cutoff, order = 6, 4\n",
    "sampling_rate = 50\n",
    "for column in ['x', 'y', 'z']:\n",
    "    filtered_data = apply_butterworth_filter(segments[0][column], order, cutoff, sampling_rate)\n",
    "    visualize_butterworth_filter(segments[0][column], filtered_data, title=f'Butterworth Filter Application ({column}-axis, Order={order}, Cutoff={cutoff} Hz)')"
   ],
   "id": "a1cafff7d3ba283",
   "outputs": [],
   "execution_count": null
  }
 ],
 "metadata": {
  "kernelspec": {
   "display_name": "Python 3",
   "language": "python",
   "name": "python3"
  },
  "language_info": {
   "codemirror_mode": {
    "name": "ipython",
    "version": 2
   },
   "file_extension": ".py",
   "mimetype": "text/x-python",
   "name": "python",
   "nbconvert_exporter": "python",
   "pygments_lexer": "ipython2",
   "version": "2.7.6"
  }
 },
 "nbformat": 4,
 "nbformat_minor": 5
}
