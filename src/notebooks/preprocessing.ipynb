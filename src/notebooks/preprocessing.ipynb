{
 "cells": [
  {
   "cell_type": "code",
   "execution_count": null,
   "id": "initial_id",
   "metadata": {
    "collapsed": true
   },
   "outputs": [],
   "source": [
    "import matplotlib.pyplot as plt\n",
    "import pandas as pd\n",
    "import numpy as np\n",
    "\n",
    "data = pd.read_csv('Accelerometer.csv')\n",
    "sensor_data = data.copy()\n",
    "\n",
    "def visualize_data(data, title, first_n_seconds=None):\n",
    "    if first_n_seconds is not None:\n",
    "        data = data[data.index <= data.index[0] + pd.Timedelta(seconds=first_n_seconds)]\n",
    "    \n",
    "    plt.figure(figsize=(10, 6))\n",
    "    plt.plot(data.index, data['x'], label='X-axis')\n",
    "    plt.plot(data.index, data['y'], label='Y-axis')\n",
    "    plt.plot(data.index, data['z'], label='Z-axis')\n",
    "    plt.legend()\n",
    "    plt.title(title)\n",
    "    plt.xlabel('Time')\n",
    "    plt.ylabel('Acceleration')\n",
    "    plt.show()"
   ]
  },
  {
   "cell_type": "code",
   "outputs": [],
   "source": [
    "# Preprocess\n",
    "sensor_data = sensor_data.drop(columns='seconds_elapsed')\n",
    "sensor_data['time'] = pd.to_datetime(sensor_data['time'], unit='ns')\n",
    "sensor_data = sensor_data.set_index('time', drop=True)\n",
    "\n",
    "visualize_data(sensor_data.copy(), 'Preprocessed Data', first_n_seconds=5)"
   ],
   "metadata": {
    "collapsed": false
   },
   "id": "5ddee27b7941bfa5",
   "execution_count": null
  },
  {
   "cell_type": "code",
   "outputs": [],
   "source": [
    "# Crop\n",
    "start_crop = pd.Timedelta(seconds=5)\n",
    "end_crop = pd.Timedelta(seconds=5)\n",
    "\n",
    "cropped_data = sensor_data[sensor_data.index.min() + start_crop:sensor_data.index.max() - end_crop]\n",
    "visualize_data(cropped_data.copy(), 'Cropped Data', first_n_seconds=5)"
   ],
   "metadata": {
    "collapsed": false
   },
   "id": "c76e8c320dc3a635",
   "execution_count": null
  },
  {
   "cell_type": "code",
   "outputs": [],
   "source": [
    "# Resample\n",
    "def visualize_resampling(original_data, resampled_data):\n",
    "    \"\"\"\n",
    "    Visualizes the effect of resampling on a dataset by plotting the original and resampled data.\n",
    "\n",
    "    Parameters:\n",
    "    - original_data: A DataFrame with the original data.\n",
    "    - resampled_data: A DataFrame with the resampled data.\n",
    "\n",
    "    Both DataFrames should have a DateTimeIndex.\n",
    "    \"\"\"\n",
    "    \n",
    "    plt.figure(figsize=(15, 7))\n",
    "    \n",
    "    # Plot original data\n",
    "    plt.plot(original_data.index, original_data['x'], label='Original Data (X-axis)', alpha=0.5, linestyle='-', marker='o', markersize=4)\n",
    "    plt.plot(original_data.index, original_data['y'], label='Original Data (Y-axis)', alpha=0.5, linestyle='-', marker='o', markersize=4)\n",
    "    plt.plot(original_data.index, original_data['z'], label='Original Data (Z-axis)', alpha=0.5, linestyle='-', marker='o', markersize=4)\n",
    "    \n",
    "    # Plot resampled data\n",
    "    plt.plot(resampled_data.index, resampled_data['x'], label='Resampled Data (X-axis)', linestyle='-', marker='x', markersize=7)\n",
    "    plt.plot(resampled_data.index, resampled_data['y'], label='Resampled Data (Y-axis)', linestyle='-', marker='x', markersize=7)\n",
    "    plt.plot(resampled_data.index, resampled_data['z'], label='Resampled Data (Z-axis)', linestyle='-', marker='x', markersize=7)\n",
    "    \n",
    "    plt.legend()\n",
    "    plt.title('Comparison of Original and Resampled Data')\n",
    "    plt.xlabel('Time')\n",
    "    plt.ylabel('Values')\n",
    "    plt.tight_layout()\n",
    "    plt.show()\n",
    "\n",
    "\n",
    "\n",
    "rate = f\"{int(1E6 / 50)}us\"\n",
    "resampled_data = cropped_data.resample(rate).mean()  # 100 Hz => 50 Hz == 20ms\n",
    "\n",
    "cropped_data_subset = cropped_data[cropped_data.index <= cropped_data.index[0] + pd.Timedelta(seconds=1)]\n",
    "resampled_data_subset = resampled_data[resampled_data.index <= resampled_data.index[0] + pd.Timedelta(seconds=1)]\n",
    "visualize_resampling(cropped_data_subset, resampled_data_subset)"
   ],
   "metadata": {
    "collapsed": false
   },
   "id": "968da8b044df2093",
   "execution_count": null
  },
  {
   "cell_type": "code",
   "outputs": [],
   "source": [
    "segment_size = pd.Timedelta(seconds=5)\n",
    "overlap = pd.Timedelta(seconds=2)\n",
    "\n",
    "start_time = resampled_data.index.min()\n",
    "segments = []\n",
    "\n",
    "while start_time + segment_size <= resampled_data.index.max():\n",
    "    end_time = start_time + segment_size\n",
    "    segments.append(resampled_data[start_time:end_time])\n",
    "    start_time = end_time - overlap\n",
    "    \n",
    "print(f'Number of segments: {len(segments)}')\n",
    "visualize_data(segments[0], 'First Segment')"
   ],
   "metadata": {
    "collapsed": false
   },
   "id": "1d056960bc6f928e",
   "execution_count": null
  },
  {
   "cell_type": "code",
   "outputs": [],
   "source": [
    "def visualize_segment_overlap(segments, column='x'):\n",
    "    \"\"\"\n",
    "    Visualizes the overlap between segments of data.\n",
    "\n",
    "    Parameters:\n",
    "    - segments: A list of DataFrame segments.\n",
    "    - column: The column name to visualize. Defaults to 'x'.\n",
    "    \"\"\"\n",
    "    \n",
    "    plt.figure(figsize=(15, 10))\n",
    "    \n",
    "    # Setting different colors for segments for clarity\n",
    "    colors = plt.cm.jet(np.linspace(0, 1, len(segments)))\n",
    "    \n",
    "    for i, segment in enumerate(segments):\n",
    "        plt.plot(segment.index, segment[column] + i * 0.5, # Offset each segment for visual clarity\n",
    "                 label=f'Segment {i+1}', color=colors[i])\n",
    "    \n",
    "    plt.title(f'Visualization of Segment Overlap for \"{column}\" column')\n",
    "    plt.xlabel('Time')\n",
    "    plt.ylabel('Value (with offset for visualization)')\n",
    "    plt.legend()\n",
    "    plt.tight_layout()\n",
    "    plt.show()\n",
    "    \n",
    "    \n",
    "visualize_segment_overlap(segments[:3])"
   ],
   "metadata": {
    "collapsed": false
   },
   "id": "e9a89b1c071acf68",
   "execution_count": null
  },
  {
   "cell_type": "code",
   "outputs": [],
   "source": [
    "import seaborn as sns\n",
    "\n",
    "def visualize_correlation_heatmap(data, title='Correlation Heatmap'):\n",
    "    correlation_matrix = data.corr()\n",
    "    plt.figure(figsize=(8, 6))\n",
    "    sns.heatmap(correlation_matrix, annot=True, cmap='coolwarm', fmt='.2f')\n",
    "    plt.title(title)\n",
    "    plt.show()\n",
    "    \n",
    "    \n",
    "visualize_correlation_heatmap(segments[5], title='Correlation Heatmap for First Segment')"
   ],
   "metadata": {
    "collapsed": false
   },
   "id": "1c8a041ead49b16",
   "execution_count": null
  },
  {
   "cell_type": "code",
   "outputs": [],
   "source": [
    "def visualize_frequency_domain(data, sampling_rate, title='Frequency Domain'):\n",
    "    fft_result = np.fft.fft(data)\n",
    "    frequencies = np.fft.fftfreq(data.shape[0], 1/sampling_rate)\n",
    "    \n",
    "    plt.figure(figsize=(15, 5))\n",
    "    plt.plot(frequencies, np.abs(fft_result))\n",
    "    plt.title(title)\n",
    "    plt.xlabel('Frequency (Hz)')\n",
    "    plt.ylabel('Amplitude')\n",
    "    plt.xlim(0, np.max(frequencies)/2)  # Show only positive frequencies up to Nyquist frequency\n",
    "    plt.show()\n",
    "\n",
    "sampling_rate = 1E6 / 50  # 50 Hz\n",
    "visualize_frequency_domain(segments[0]['x'], sampling_rate, title='Frequency Domain for X-axis (First Segment)')"
   ],
   "metadata": {
    "collapsed": false
   },
   "id": "30b284cb53965506",
   "execution_count": null
  }
 ],
 "metadata": {
  "kernelspec": {
   "display_name": "Python 3",
   "language": "python",
   "name": "python3"
  },
  "language_info": {
   "codemirror_mode": {
    "name": "ipython",
    "version": 2
   },
   "file_extension": ".py",
   "mimetype": "text/x-python",
   "name": "python",
   "nbconvert_exporter": "python",
   "pygments_lexer": "ipython2",
   "version": "2.7.6"
  }
 },
 "nbformat": 4,
 "nbformat_minor": 5
}
